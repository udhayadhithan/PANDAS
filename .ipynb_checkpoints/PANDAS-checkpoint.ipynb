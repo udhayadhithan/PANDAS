{
 "cells": [
  {
   "cell_type": "code",
   "execution_count": 2,
   "metadata": {},
   "outputs": [],
   "source": [
    "import pandas as pd\n",
    "import numpy as np"
   ]
  },
  {
   "cell_type": "markdown",
   "metadata": {},
   "source": [
    "# Series :"
   ]
  },
  {
   "cell_type": "markdown",
   "metadata": {},
   "source": [
    "### Series is similar to a list except that here you can specify what the index must be."
   ]
  },
  {
   "cell_type": "code",
   "execution_count": 9,
   "metadata": {},
   "outputs": [],
   "source": [
    "# EXAMPLE\n",
    "data_ = [1,2,3,4]\n",
    "index_ = ['A','B','C','D']\n",
    "ser = pd.Series(data=data_,index=index_)\n",
    "# OR\n",
    "ser1 = pd.Series(data_,index_)"
   ]
  },
  {
   "cell_type": "code",
   "execution_count": 13,
   "metadata": {},
   "outputs": [
    {
     "name": "stdout",
     "output_type": "stream",
     "text": [
      "A    1\n",
      "B    2\n",
      "C    3\n",
      "D    4\n",
      "dtype: int64\n",
      "A    1\n",
      "B    2\n",
      "C    3\n",
      "D    4\n",
      "dtype: int64\n"
     ]
    }
   ],
   "source": [
    "print(ser)\n",
    "print(ser1)"
   ]
  },
  {
   "cell_type": "markdown",
   "metadata": {},
   "source": [
    "### One can also use dictionary to set the data and index. the keys in dictionary will be used as index and the value will be assigned as data "
   ]
  },
  {
   "cell_type": "code",
   "execution_count": 19,
   "metadata": {},
   "outputs": [
    {
     "name": "stdout",
     "output_type": "stream",
     "text": [
      "A        10\n",
      "RAM      20\n",
      "LAKSH    18\n",
      "KARNA    23\n",
      "GOKU     40\n",
      "dtype: int64\n"
     ]
    }
   ],
   "source": [
    "# EXAMPLE\n",
    "DICT = {'A':10,'RAM':20,'LAKSH':18,'KARNA':23,'GOKU':40}\n",
    "ser2 = pd.Series(DICT)\n",
    "print(ser2)"
   ]
  },
  {
   "cell_type": "markdown",
   "metadata": {},
   "source": [
    "### When we perform any arithmetic operation over a series object ,the operations is performed on the data present on similar index . if both series doesn't have the same index then a NAN is placed at the data corresponding to that index"
   ]
  },
  {
   "cell_type": "code",
   "execution_count": 20,
   "metadata": {},
   "outputs": [
    {
     "name": "stdout",
     "output_type": "stream",
     "text": [
      "A    2\n",
      "B    4\n",
      "C    6\n",
      "D    8\n",
      "dtype: int64\n",
      "A    0\n",
      "B    0\n",
      "C    0\n",
      "D    0\n",
      "dtype: int64\n",
      "A     1\n",
      "B     4\n",
      "C     9\n",
      "D    16\n",
      "dtype: int64\n",
      "A    1.0\n",
      "B    1.0\n",
      "C    1.0\n",
      "D    1.0\n",
      "dtype: float64\n"
     ]
    }
   ],
   "source": [
    "# EXAMPLE SIMILAR SERIES\n",
    "ser_add = ser1 + ser\n",
    "ser_sub = ser1 - ser\n",
    "ser_mul = ser1 * ser\n",
    "ser_div = ser1 / ser\n",
    "print(ser_add)\n",
    "print(ser_sub)\n",
    "print(ser_mul)\n",
    "print(ser_div)"
   ]
  },
  {
   "cell_type": "code",
   "execution_count": 22,
   "metadata": {},
   "outputs": [
    {
     "name": "stdout",
     "output_type": "stream",
     "text": [
      "A        11.0\n",
      "B         NaN\n",
      "C         NaN\n",
      "D         NaN\n",
      "GOKU      NaN\n",
      "KARNA     NaN\n",
      "LAKSH     NaN\n",
      "RAM       NaN\n",
      "dtype: float64\n",
      "A       -9.0\n",
      "B        NaN\n",
      "C        NaN\n",
      "D        NaN\n",
      "GOKU     NaN\n",
      "KARNA    NaN\n",
      "LAKSH    NaN\n",
      "RAM      NaN\n",
      "dtype: float64\n",
      "A        10.0\n",
      "B         NaN\n",
      "C         NaN\n",
      "D         NaN\n",
      "GOKU      NaN\n",
      "KARNA     NaN\n",
      "LAKSH     NaN\n",
      "RAM       NaN\n",
      "dtype: float64\n",
      "A        0.1\n",
      "B        NaN\n",
      "C        NaN\n",
      "D        NaN\n",
      "GOKU     NaN\n",
      "KARNA    NaN\n",
      "LAKSH    NaN\n",
      "RAM      NaN\n",
      "dtype: float64\n"
     ]
    }
   ],
   "source": [
    "# EXAMPLE DIFFERENT SERIES\n",
    "ser_add_1 = ser1 + ser2\n",
    "ser_sub_1 = ser1 - ser2\n",
    "ser_mul_1 = ser1 * ser2\n",
    "ser_div_1 = ser1 / ser2\n",
    "print(ser_add_1)\n",
    "print(ser_sub_1)\n",
    "print(ser_mul_1)\n",
    "print(ser_div_1)\n",
    "\n",
    "#Since both seires 1 and 2 has only index 'A' as common, only those data in that index is performed with the operation"
   ]
  }
 ],
 "metadata": {
  "kernelspec": {
   "display_name": "Python 3",
   "language": "python",
   "name": "python3"
  },
  "language_info": {
   "codemirror_mode": {
    "name": "ipython",
    "version": 3
   },
   "file_extension": ".py",
   "mimetype": "text/x-python",
   "name": "python",
   "nbconvert_exporter": "python",
   "pygments_lexer": "ipython3",
   "version": "3.7.2"
  }
 },
 "nbformat": 4,
 "nbformat_minor": 2
}
