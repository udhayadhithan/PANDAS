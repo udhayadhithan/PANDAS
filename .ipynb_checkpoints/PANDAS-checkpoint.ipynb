{
 "cells": [
  {
   "cell_type": "code",
   "execution_count": 1,
   "metadata": {},
   "outputs": [],
   "source": [
    "import pandas as pd\n",
    "import numpy as np"
   ]
  },
  {
   "cell_type": "markdown",
   "metadata": {},
   "source": [
    "# Series :"
   ]
  },
  {
   "cell_type": "markdown",
   "metadata": {},
   "source": [
    "##### Series is similar to a list except that here you can specify what the index must be."
   ]
  },
  {
   "cell_type": "code",
   "execution_count": 2,
   "metadata": {},
   "outputs": [],
   "source": [
    "# EXAMPLE\n",
    "data_ = [1,2,3,4]\n",
    "index_ = ['A','B','C','D']\n",
    "ser = pd.Series(data=data_,index=index_)\n",
    "# OR\n",
    "ser1 = pd.Series(data_,index_)"
   ]
  },
  {
   "cell_type": "code",
   "execution_count": 3,
   "metadata": {},
   "outputs": [
    {
     "name": "stdout",
     "output_type": "stream",
     "text": [
      "A    1\n",
      "B    2\n",
      "C    3\n",
      "D    4\n",
      "dtype: int64\n",
      "A    1\n",
      "B    2\n",
      "C    3\n",
      "D    4\n",
      "dtype: int64\n"
     ]
    }
   ],
   "source": [
    "print(ser)\n",
    "print(ser1)"
   ]
  },
  {
   "cell_type": "markdown",
   "metadata": {},
   "source": [
    "##### One can also use dictionary to set the data and index. the keys in dictionary will be used as index and the value will be assigned as data "
   ]
  },
  {
   "cell_type": "code",
   "execution_count": 4,
   "metadata": {},
   "outputs": [
    {
     "name": "stdout",
     "output_type": "stream",
     "text": [
      "A        10\n",
      "RAM      20\n",
      "LAKSH    18\n",
      "KARNA    23\n",
      "GOKU     40\n",
      "dtype: int64\n"
     ]
    }
   ],
   "source": [
    "# EXAMPLE\n",
    "DICT = {'A':10,'RAM':20,'LAKSH':18,'KARNA':23,'GOKU':40}\n",
    "ser2 = pd.Series(DICT)\n",
    "print(ser2)"
   ]
  },
  {
   "cell_type": "markdown",
   "metadata": {},
   "source": [
    "##### When we perform any arithmetic operation over a series object ,the operations is performed on the data present on similar index . if both series doesn't have the same index then a NAN is placed at the data corresponding to that index"
   ]
  },
  {
   "cell_type": "code",
   "execution_count": 5,
   "metadata": {},
   "outputs": [
    {
     "name": "stdout",
     "output_type": "stream",
     "text": [
      "A    2\n",
      "B    4\n",
      "C    6\n",
      "D    8\n",
      "dtype: int64\n",
      "A    0\n",
      "B    0\n",
      "C    0\n",
      "D    0\n",
      "dtype: int64\n",
      "A     1\n",
      "B     4\n",
      "C     9\n",
      "D    16\n",
      "dtype: int64\n",
      "A    1.0\n",
      "B    1.0\n",
      "C    1.0\n",
      "D    1.0\n",
      "dtype: float64\n"
     ]
    }
   ],
   "source": [
    "# EXAMPLE SIMILAR SERIES\n",
    "ser_add = ser1 + ser\n",
    "ser_sub = ser1 - ser\n",
    "ser_mul = ser1 * ser\n",
    "ser_div = ser1 / ser\n",
    "print(ser_add)\n",
    "print(ser_sub)\n",
    "print(ser_mul)\n",
    "print(ser_div)"
   ]
  },
  {
   "cell_type": "code",
   "execution_count": 6,
   "metadata": {},
   "outputs": [
    {
     "name": "stdout",
     "output_type": "stream",
     "text": [
      "A        11.0\n",
      "B         NaN\n",
      "C         NaN\n",
      "D         NaN\n",
      "GOKU      NaN\n",
      "KARNA     NaN\n",
      "LAKSH     NaN\n",
      "RAM       NaN\n",
      "dtype: float64\n",
      "A       -9.0\n",
      "B        NaN\n",
      "C        NaN\n",
      "D        NaN\n",
      "GOKU     NaN\n",
      "KARNA    NaN\n",
      "LAKSH    NaN\n",
      "RAM      NaN\n",
      "dtype: float64\n",
      "A        10.0\n",
      "B         NaN\n",
      "C         NaN\n",
      "D         NaN\n",
      "GOKU      NaN\n",
      "KARNA     NaN\n",
      "LAKSH     NaN\n",
      "RAM       NaN\n",
      "dtype: float64\n",
      "A        0.1\n",
      "B        NaN\n",
      "C        NaN\n",
      "D        NaN\n",
      "GOKU     NaN\n",
      "KARNA    NaN\n",
      "LAKSH    NaN\n",
      "RAM      NaN\n",
      "dtype: float64\n"
     ]
    }
   ],
   "source": [
    "# EXAMPLE DIFFERENT SERIES\n",
    "ser_add_1 = ser1 + ser2\n",
    "ser_sub_1 = ser1 - ser2\n",
    "ser_mul_1 = ser1 * ser2\n",
    "ser_div_1 = ser1 / ser2\n",
    "print(ser_add_1)\n",
    "print(ser_sub_1)\n",
    "print(ser_mul_1)\n",
    "print(ser_div_1)\n",
    "\n",
    "#Since both seires 1 and 2 has only index 'A' as common, only those data in that index is performed with the operation"
   ]
  },
  {
   "cell_type": "markdown",
   "metadata": {},
   "source": [
    "# DATA FRAME:"
   ]
  },
  {
   "cell_type": "markdown",
   "metadata": {},
   "source": [
    "##### A DATAFRAME is a 2-D data structure arranging data in a tabular form. The index(rows) and column names can be explicitely given."
   ]
  },
  {
   "cell_type": "code",
   "execution_count": 7,
   "metadata": {},
   "outputs": [],
   "source": [
    "ind = ['A','B','C','D']\n",
    "col = ['W','X','Y','Z']\n",
    "data = np.random.randn(4,4)\n",
    "DF = pd.DataFrame(data,ind,col)"
   ]
  },
  {
   "cell_type": "code",
   "execution_count": 8,
   "metadata": {},
   "outputs": [
    {
     "data": {
      "text/html": [
       "<div>\n",
       "<style scoped>\n",
       "    .dataframe tbody tr th:only-of-type {\n",
       "        vertical-align: middle;\n",
       "    }\n",
       "\n",
       "    .dataframe tbody tr th {\n",
       "        vertical-align: top;\n",
       "    }\n",
       "\n",
       "    .dataframe thead th {\n",
       "        text-align: right;\n",
       "    }\n",
       "</style>\n",
       "<table border=\"1\" class=\"dataframe\">\n",
       "  <thead>\n",
       "    <tr style=\"text-align: right;\">\n",
       "      <th></th>\n",
       "      <th>W</th>\n",
       "      <th>X</th>\n",
       "      <th>Y</th>\n",
       "      <th>Z</th>\n",
       "    </tr>\n",
       "  </thead>\n",
       "  <tbody>\n",
       "    <tr>\n",
       "      <th>A</th>\n",
       "      <td>1.590707</td>\n",
       "      <td>0.399964</td>\n",
       "      <td>1.753469</td>\n",
       "      <td>-1.040200</td>\n",
       "    </tr>\n",
       "    <tr>\n",
       "      <th>B</th>\n",
       "      <td>0.095540</td>\n",
       "      <td>-1.739684</td>\n",
       "      <td>-0.247765</td>\n",
       "      <td>0.640036</td>\n",
       "    </tr>\n",
       "    <tr>\n",
       "      <th>C</th>\n",
       "      <td>-0.715981</td>\n",
       "      <td>0.417207</td>\n",
       "      <td>-0.594740</td>\n",
       "      <td>0.902625</td>\n",
       "    </tr>\n",
       "    <tr>\n",
       "      <th>D</th>\n",
       "      <td>-0.095705</td>\n",
       "      <td>0.375396</td>\n",
       "      <td>-2.766143</td>\n",
       "      <td>-0.082477</td>\n",
       "    </tr>\n",
       "  </tbody>\n",
       "</table>\n",
       "</div>"
      ],
      "text/plain": [
       "          W         X         Y         Z\n",
       "A  1.590707  0.399964  1.753469 -1.040200\n",
       "B  0.095540 -1.739684 -0.247765  0.640036\n",
       "C -0.715981  0.417207 -0.594740  0.902625\n",
       "D -0.095705  0.375396 -2.766143 -0.082477"
      ]
     },
     "execution_count": 8,
     "metadata": {},
     "output_type": "execute_result"
    }
   ],
   "source": [
    "DF #DATA FRAME"
   ]
  },
  {
   "cell_type": "markdown",
   "metadata": {},
   "source": [
    "### Accessing Columns in DF:\n"
   ]
  },
  {
   "cell_type": "code",
   "execution_count": 9,
   "metadata": {},
   "outputs": [
    {
     "name": "stdout",
     "output_type": "stream",
     "text": [
      "A    1.590707\n",
      "B    0.095540\n",
      "C   -0.715981\n",
      "D   -0.095705\n",
      "Name: W, dtype: float64\n",
      "          W         X\n",
      "A  1.590707  0.399964\n",
      "B  0.095540 -1.739684\n",
      "C -0.715981  0.417207\n",
      "D -0.095705  0.375396\n"
     ]
    }
   ],
   "source": [
    "print(DF['W']) #onlu column W\n",
    "print(DF[['W','X']]) #coluns W and X"
   ]
  },
  {
   "cell_type": "markdown",
   "metadata": {},
   "source": [
    "### Accessing rows in DF:"
   ]
  },
  {
   "cell_type": "code",
   "execution_count": 10,
   "metadata": {},
   "outputs": [
    {
     "name": "stdout",
     "output_type": "stream",
     "text": [
      "W    1.590707\n",
      "X    0.399964\n",
      "Y    1.753469\n",
      "Z   -1.040200\n",
      "Name: A, dtype: float64\n",
      "          W         X         Y         Z\n",
      "A  1.590707  0.399964  1.753469 -1.040200\n",
      "B  0.095540 -1.739684 -0.247765  0.640036\n",
      "W    1.590707\n",
      "X    0.399964\n",
      "Y    1.753469\n",
      "Z   -1.040200\n",
      "Name: A, dtype: float64\n"
     ]
    }
   ],
   "source": [
    "print(DF.loc['A']) #only row A\n",
    "print(DF.loc[['A','B']]) #rows A and B\n",
    "print(DF.iloc[0]) #accesing rows via integer index irrrespective of what the indices(char,string,numbers) are"
   ]
  },
  {
   "cell_type": "markdown",
   "metadata": {},
   "source": [
    "### Accessing custom rows and columns:"
   ]
  },
  {
   "cell_type": "code",
   "execution_count": 11,
   "metadata": {},
   "outputs": [
    {
     "name": "stdout",
     "output_type": "stream",
     "text": [
      "          W\n",
      "A  1.590707\n",
      "          W         Z\n",
      "A  1.590707 -1.040200\n",
      "C -0.715981  0.902625\n"
     ]
    }
   ],
   "source": [
    "print(DF.loc[['A'],['W']]) #elemnt in rows A and col W\n",
    "print(DF.loc[['A','C'],['W','Z']]) #elemnts in row A,C and column W,Z"
   ]
  },
  {
   "cell_type": "markdown",
   "metadata": {},
   "source": [
    "### Droping Rows or Columns in DF:"
   ]
  },
  {
   "cell_type": "code",
   "execution_count": 12,
   "metadata": {},
   "outputs": [
    {
     "name": "stdout",
     "output_type": "stream",
     "text": [
      "          X         Y         Z\n",
      "A  0.399964  1.753469 -1.040200\n",
      "B -1.739684 -0.247765  0.640036\n",
      "C  0.417207 -0.594740  0.902625\n",
      "D  0.375396 -2.766143 -0.082477\n",
      "          W         X         Y         Z\n",
      "B  0.095540 -1.739684 -0.247765  0.640036\n",
      "C -0.715981  0.417207 -0.594740  0.902625\n",
      "D -0.095705  0.375396 -2.766143 -0.082477\n",
      "          W         X         Y         Z\n",
      "A  1.590707  0.399964  1.753469 -1.040200\n",
      "B  0.095540 -1.739684 -0.247765  0.640036\n",
      "C -0.715981  0.417207 -0.594740  0.902625\n",
      "D -0.095705  0.375396 -2.766143 -0.082477\n"
     ]
    }
   ],
   "source": [
    "print(DF.drop('W',axis=1))\n",
    "print(DF.drop('A',axis=0))#axis=0 by default\n",
    "print(DF)"
   ]
  },
  {
   "cell_type": "markdown",
   "metadata": {},
   "source": [
    "##### It can be noted that the Drop dint affect the DF. inorder to change the dataframe directly after drop another paramater 'inplace' has to be mentioned as parameter. \n"
   ]
  },
  {
   "cell_type": "code",
   "execution_count": 13,
   "metadata": {},
   "outputs": [
    {
     "name": "stdout",
     "output_type": "stream",
     "text": [
      "          W         X         Y         Z\n",
      "A  1.590707  0.399964  1.753469 -1.040200\n",
      "B  0.095540 -1.739684 -0.247765  0.640036\n",
      "C -0.715981  0.417207 -0.594740  0.902625\n",
      "D -0.095705  0.375396 -2.766143 -0.082477\n",
      "          X         Y         Z\n",
      "A  0.399964  1.753469 -1.040200\n",
      "B -1.739684 -0.247765  0.640036\n",
      "C  0.417207 -0.594740  0.902625\n",
      "D  0.375396 -2.766143 -0.082477\n"
     ]
    }
   ],
   "source": [
    "DF1 = DF\n",
    "print(DF)\n",
    "DF.drop('W',axis=1,inplace=True)\n",
    "print(DF)"
   ]
  },
  {
   "cell_type": "markdown",
   "metadata": {},
   "source": [
    "#### Droping multiple coll and rows"
   ]
  },
  {
   "cell_type": "code",
   "execution_count": 14,
   "metadata": {},
   "outputs": [
    {
     "name": "stdout",
     "output_type": "stream",
     "text": [
      "          Y\n",
      "C -0.594740\n",
      "D -2.766143\n"
     ]
    }
   ],
   "source": [
    "print(DF1.drop(index=['A','B'],columns=['X','Z'])) "
   ]
  },
  {
   "cell_type": "markdown",
   "metadata": {},
   "source": [
    "### Conditional Selection :"
   ]
  },
  {
   "cell_type": "markdown",
   "metadata": {},
   "source": [
    "##### ne can use conditional operators for data selection in the DATAFRAME which allows efficient manupulation of data. Using conditional operators with a dataframe returns a series or a dataframe with bool(True or False) values."
   ]
  },
  {
   "cell_type": "code",
   "execution_count": 17,
   "metadata": {},
   "outputs": [
    {
     "name": "stdout",
     "output_type": "stream",
     "text": [
      "       X      Y      Z\n",
      "A  False   True  False\n",
      "B  False  False  False\n",
      "C  False  False  False\n",
      "D  False  False  False\n",
      "A    False\n",
      "B    False\n",
      "C    False\n",
      "D    False\n",
      "Name: X, dtype: bool\n"
     ]
    }
   ],
   "source": [
    "#EXAMPLE\n",
    "print(DF1 > 1)#performing conditional statement on a dataframe which returns a dataframe with bool values \n",
    "print(DF1['X'] > 1)#performing conditional statement on a series which returns a series with bool values "
   ]
  },
  {
   "cell_type": "markdown",
   "metadata": {},
   "source": [
    "##### specifying the conditional statement inside the dataframe returns only the values where there is true and NAN(if u give a data frame as conditional statement else only the true values are shown if a series is given)."
   ]
  },
  {
   "cell_type": "code",
   "execution_count": 18,
   "metadata": {},
   "outputs": [
    {
     "name": "stdout",
     "output_type": "stream",
     "text": [
      "          X         Y         Z\n",
      "A       NaN       NaN -1.040200\n",
      "B -1.739684 -0.247765       NaN\n",
      "C       NaN -0.594740       NaN\n",
      "D       NaN -2.766143 -0.082477\n",
      "          X         Y         Z\n",
      "B -1.739684 -0.247765  0.640036\n",
      "C  0.417207 -0.594740  0.902625\n",
      "D  0.375396 -2.766143 -0.082477\n"
     ]
    }
   ],
   "source": [
    "print(DF1[DF1<0])#resultant DF will contain both True and False(NAN) values \n",
    "print(DF1[DF1['Y']<0]) #contains values where only true is present"
   ]
  },
  {
   "cell_type": "markdown",
   "metadata": {},
   "source": [
    "### Multiple Conditional Statements :"
   ]
  },
  {
   "cell_type": "markdown",
   "metadata": {},
   "source": [
    "##### We can also combine more than one conditional statements using the logical operators. It is to be noted that pythons 'and' , 'or' expressions will not work as they work on single values (i.e True and True) . not on series of bool values. "
   ]
  },
  {
   "cell_type": "code",
   "execution_count": 22,
   "metadata": {},
   "outputs": [
    {
     "name": "stdout",
     "output_type": "stream",
     "text": [
      "          X         Y         Z\n",
      "C  0.417207 -0.594740  0.902625\n",
      "D  0.375396 -2.766143 -0.082477\n"
     ]
    }
   ],
   "source": [
    "print(DF1[(DF1['X']>0) & (DF1['Y']<0)])"
   ]
  },
  {
   "cell_type": "markdown",
   "metadata": {},
   "source": [
    "### Index manupulation:"
   ]
  },
  {
   "cell_type": "markdown",
   "metadata": {},
   "source": [
    "##### we can edit the index even after the creation of the dataframe. We can set or reset the index "
   ]
  },
  {
   "cell_type": "code",
   "execution_count": 25,
   "metadata": {},
   "outputs": [
    {
     "data": {
      "text/html": [
       "<div>\n",
       "<style scoped>\n",
       "    .dataframe tbody tr th:only-of-type {\n",
       "        vertical-align: middle;\n",
       "    }\n",
       "\n",
       "    .dataframe tbody tr th {\n",
       "        vertical-align: top;\n",
       "    }\n",
       "\n",
       "    .dataframe thead th {\n",
       "        text-align: right;\n",
       "    }\n",
       "</style>\n",
       "<table border=\"1\" class=\"dataframe\">\n",
       "  <thead>\n",
       "    <tr style=\"text-align: right;\">\n",
       "      <th></th>\n",
       "      <th>index</th>\n",
       "      <th>X</th>\n",
       "      <th>Y</th>\n",
       "      <th>Z</th>\n",
       "    </tr>\n",
       "  </thead>\n",
       "  <tbody>\n",
       "    <tr>\n",
       "      <th>0</th>\n",
       "      <td>A</td>\n",
       "      <td>0.399964</td>\n",
       "      <td>1.753469</td>\n",
       "      <td>-1.040200</td>\n",
       "    </tr>\n",
       "    <tr>\n",
       "      <th>1</th>\n",
       "      <td>B</td>\n",
       "      <td>-1.739684</td>\n",
       "      <td>-0.247765</td>\n",
       "      <td>0.640036</td>\n",
       "    </tr>\n",
       "    <tr>\n",
       "      <th>2</th>\n",
       "      <td>C</td>\n",
       "      <td>0.417207</td>\n",
       "      <td>-0.594740</td>\n",
       "      <td>0.902625</td>\n",
       "    </tr>\n",
       "    <tr>\n",
       "      <th>3</th>\n",
       "      <td>D</td>\n",
       "      <td>0.375396</td>\n",
       "      <td>-2.766143</td>\n",
       "      <td>-0.082477</td>\n",
       "    </tr>\n",
       "  </tbody>\n",
       "</table>\n",
       "</div>"
      ],
      "text/plain": [
       "  index         X         Y         Z\n",
       "0     A  0.399964  1.753469 -1.040200\n",
       "1     B -1.739684 -0.247765  0.640036\n",
       "2     C  0.417207 -0.594740  0.902625\n",
       "3     D  0.375396 -2.766143 -0.082477"
      ]
     },
     "execution_count": 25,
     "metadata": {},
     "output_type": "execute_result"
    }
   ],
   "source": [
    "new_index = 'ram laks karna goku'.split()\n",
    "DF1.reset_index()"
   ]
  },
  {
   "cell_type": "markdown",
   "metadata": {},
   "source": [
    "##### It can be noted that the previous index becomes a column of the the dataframe after reseting the index. It can be noted that the modifications will not afftect the dataframe unless we specify inplace=True"
   ]
  },
  {
   "cell_type": "code",
   "execution_count": 30,
   "metadata": {},
   "outputs": [
    {
     "name": "stdout",
     "output_type": "stream",
     "text": [
      "              X         Y         Z\n",
      "names                              \n",
      "ram    0.399964  1.753469 -1.040200\n",
      "laks  -1.739684 -0.247765  0.640036\n",
      "karna  0.417207 -0.594740  0.902625\n",
      "goku   0.375396 -2.766143 -0.082477\n"
     ]
    }
   ],
   "source": [
    "DF1['names'] = new_index\n",
    "DF1.set_index('names',inplace=True)\n",
    "print(DF1)"
   ]
  },
  {
   "cell_type": "code",
   "execution_count": null,
   "metadata": {},
   "outputs": [],
   "source": []
  }
 ],
 "metadata": {
  "kernelspec": {
   "display_name": "Python 3",
   "language": "python",
   "name": "python3"
  },
  "language_info": {
   "codemirror_mode": {
    "name": "ipython",
    "version": 3
   },
   "file_extension": ".py",
   "mimetype": "text/x-python",
   "name": "python",
   "nbconvert_exporter": "python",
   "pygments_lexer": "ipython3",
   "version": "3.7.2"
  },
  "toc": {
   "base_numbering": 1,
   "nav_menu": {},
   "number_sections": true,
   "sideBar": true,
   "skip_h1_title": false,
   "title_cell": "Table of Contents",
   "title_sidebar": "Contents",
   "toc_cell": false,
   "toc_position": {},
   "toc_section_display": true,
   "toc_window_display": false
  },
  "varInspector": {
   "cols": {
    "lenName": 16,
    "lenType": 16,
    "lenVar": 40
   },
   "kernels_config": {
    "python": {
     "delete_cmd_postfix": "",
     "delete_cmd_prefix": "del ",
     "library": "var_list.py",
     "varRefreshCmd": "print(var_dic_list())"
    },
    "r": {
     "delete_cmd_postfix": ") ",
     "delete_cmd_prefix": "rm(",
     "library": "var_list.r",
     "varRefreshCmd": "cat(var_dic_list()) "
    }
   },
   "types_to_exclude": [
    "module",
    "function",
    "builtin_function_or_method",
    "instance",
    "_Feature"
   ],
   "window_display": false
  }
 },
 "nbformat": 4,
 "nbformat_minor": 2
}
